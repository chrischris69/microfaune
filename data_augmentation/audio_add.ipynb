{
 "cells": [
  {
   "cell_type": "markdown",
   "metadata": {},
   "source": [
    "## Adding operations between audio data files"
   ]
  },
  {
   "cell_type": "code",
   "execution_count": 1,
   "metadata": {},
   "outputs": [],
   "source": [
    "\n",
    "import os\n",
    "import glob\n",
    "from pathlib import Path\n",
    "import datetime\n",
    "#import random\n",
    "import numpy as np\n",
    "import pandas as pd\n",
    "from threading import Thread\n",
    "\n",
    "from microfaune import audio"
   ]
  },
  {
   "cell_type": "code",
   "execution_count": 2,
   "metadata": {},
   "outputs": [],
   "source": [
    "\n",
    "def mesure_delta(time_start, time_end):\n",
    "    \"\"\" time mesurements\n",
    "    input a (= datetime.datetime.now())\n",
    "    input b (= datetime.datetime.now())\n",
    "    output : seconds, ms, string to display\n",
    "    \"\"\"\n",
    "    c = time_end - time_start\n",
    "    s = c.seconds\n",
    "    ms = int(c.microseconds/1000)\n",
    "    t = str(s) + 's ' + str(ms) + 'ms'\n",
    "    return s, ms, t\n",
    "\n",
    "\n",
    "def load_wav_dataonly(wav_filename):\n",
    "    \"\"\" load data without fs \"\"\"\n",
    "    fs, data = audio.load_wav(wav_filename)\n",
    "    return data \n"
   ]
  },
  {
   "cell_type": "markdown",
   "metadata": {},
   "source": [
    "### Basic audio adding files operation \n",
    "- audio with same fs size\n",
    "- audio with different fs size\n"
   ]
  },
  {
   "cell_type": "code",
   "execution_count": 3,
   "metadata": {},
   "outputs": [],
   "source": [
    "def add_dataWav1todataWav2(data1, data2, percent1=1, percent2=1):\n",
    "    \"\"\" addition of two wave np array, with weight percentage\n",
    "    input : \n",
    "    data1 first data audio, in flat vector\n",
    "    data1 first data audio, in flat vector\n",
    "    percent 1 percentage of data taken\n",
    "    percent 1 percentage of data added\n",
    "    output :\n",
    "    p1*data1 + p2*data2     \n",
    "    \"\"\"\n",
    "    \n",
    "    if len(data2)==0:\n",
    "        return data1    \n",
    "    if len(data2)>len(data1):\n",
    "        data2 = data2[:len(data1)]\n",
    "    if len(data2)<len(data1):\n",
    "        data2 = list(data2) + [1] * (len(data1)-len(data2))\n",
    "    if percent1==1 and percent2==1:\n",
    "        list3 = list(map(lambda x, y: x + y, data1, data2))                             \n",
    "    else:\n",
    "        list3 = list(map(lambda x, y: (percent1 * x) + (percent2 * y), \\\n",
    "                             data1, data2))\n",
    "    return np.array(list3, dtype=np.float32) \n",
    "\n",
    "\n"
   ]
  },
  {
   "cell_type": "markdown",
   "metadata": {},
   "source": [
    "##### Test function "
   ]
  },
  {
   "cell_type": "code",
   "execution_count": 4,
   "metadata": {},
   "outputs": [
    {
     "name": "stdout",
     "output_type": "stream",
     "text": [
      "data1==data2\n",
      "data1 [  0.   0.   0. ... 558. 741. 620.]\n",
      "data2 [1. 1. 1. ... 1. 1. 1.]\n",
      "\n",
      "Time for data3 = data2 + data1 : 0s 316ms\n",
      "data3 [  1.   1.   1. ... 559. 742. 621.]\n",
      "\n",
      "Time for data3 = data1 + 50%(data2) : 3s 822ms\n",
      "data3 [5.000e-01 5.000e-01 5.000e-01 ... 5.585e+02 7.415e+02 6.205e+02]\n",
      "\n",
      "Time for data3 = 90%(data1) + 0%(data2) : 3s 911ms\n",
      "data3 [  0.    0.    0.  ... 502.2 666.9 558. ]\n",
      "\n",
      "data3 = data1 + 80%(data2)\n",
      "data3 [  0.8   0.8   0.8 ... 558.8 741.8 620.8]\n"
     ]
    }
   ],
   "source": [
    "def test_add_dataWav1todataWav2(wave_file='../toy_data/bird1.wav'):\n",
    "    \"\"\" basic tests of wave addition function \"\"\"\n",
    "    \"\"\" on audio of having the same fs size \"\"\"\n",
    "    \n",
    "    fs, data = audio.load_wav(wave_file)\n",
    "    data1 = data.copy()\n",
    "    data2 = np.array([1] * len(data1), dtype=np.float32) \n",
    "    \n",
    "    print('data1==data2')\n",
    "    print('data1', data1)\n",
    "    print('data2', data2)\n",
    "    print()\n",
    "    \n",
    "    debut_t = datetime.datetime.now()\n",
    "    data3 = add_dataWav1todataWav2(data1, data2) \n",
    "    s, ms, t = mesure_delta(debut_t, datetime.datetime.now())\n",
    "    print('Time for data3 = data2 + data1 :', t)\n",
    "    print('data3', data3)\n",
    "    print()\n",
    "    \n",
    "    debut_t = datetime.datetime.now()\n",
    "    data3 = add_dataWav1todataWav2(data1, data2, 1, 0.5) \n",
    "    s, ms, t = mesure_delta(debut_t, datetime.datetime.now())\n",
    "    print('Time for data3 = data1 + 50%(data2) :', t)\n",
    "    print('data3', data3)\n",
    "    print()\n",
    "    \n",
    "    debut_t = datetime.datetime.now()\n",
    "    data3 = add_dataWav1todataWav2(data1, data2, 0.9, 0) \n",
    "    s, ms, t = mesure_delta(debut_t, datetime.datetime.now())\n",
    "    print('Time for data3 = 90%(data1) + 0%(data2) :', t)\n",
    "    print('data3', data3)\n",
    "    print()\n",
    "    \n",
    "    data3 = add_dataWav1todataWav2(data1, data2, 1, 0.8) \n",
    "    print('data3 = data1 + 80%(data2)')\n",
    "    print('data3', data3)\n",
    "    \n",
    "test_add_dataWav1todataWav2()\n"
   ]
  },
  {
   "cell_type": "markdown",
   "metadata": {},
   "source": [
    "#### Discussion\n",
    "- time mesurements are betters with simple addition than when we apply percentages"
   ]
  },
  {
   "cell_type": "markdown",
   "metadata": {},
   "source": [
    "### Class and method for loading audio file by  file list\n",
    "- limit size for test"
   ]
  },
  {
   "cell_type": "code",
   "execution_count": 9,
   "metadata": {},
   "outputs": [],
   "source": [
    "class load_bythread(Thread):\n",
    "    \"\"\"Thread to load audio file \"\"\"\n",
    "    wavefile = None\n",
    "    data = None\n",
    "\n",
    "    def __init__(self, wavefile):\n",
    "        Thread.__init__(self)\n",
    "        self.wavefile = wavefile\n",
    "\n",
    "    def run(self):\n",
    "        \"\"\"Code du thread.\"\"\"\n",
    "        #fs, self.data = wavfile.read(self.wavefile)\n",
    "        self.data = load_wav_dataonly(self.wavefile)\n",
    "\n",
    "    def join(self):\n",
    "        Thread.join(self)\n",
    "        return self.data\n",
    "    \n",
    "def load_audiofile_list(pathfiles, by_thread=True, traceon=False):\n",
    "    \"\"\" load audio file list\n",
    "    input :\n",
    "        pathfiles wave path files \n",
    "        two loading mode is proposed : \n",
    "        by_thread = True with multithreading\n",
    "        by_thread = False without multithreading\n",
    "        traceon : to display performance\n",
    "    ouput :\n",
    "        DataFrame with loaded data from wave files\n",
    "    \"\"\"    \n",
    "    if traceon:\n",
    "        debut_t = datetime.datetime.now()\n",
    "    \n",
    "    wavefiles = glob.glob(pathfiles + \"//*.wav\")\n",
    "    df = pd.DataFrame(wavefiles)\n",
    "    \n",
    "    # limit size for test\n",
    "    length = len(df)\n",
    "    if length>2000:\n",
    "        length = 2000  \n",
    "    df = df[:length] \n",
    "    \n",
    "    print(len(df))\n",
    "    display(df.head())\n",
    "    df.columns = ['fullname']\n",
    "    df['file_name'] = df['fullname'].apply(lambda x: Path(x).name)\n",
    "    \n",
    "    if not by_thread:\n",
    "        df['data'] = df['fullname'].apply(lambda x: load_wav_dataonly(x))\n",
    "    \n",
    "    if by_thread:\n",
    "        df['load_bythread'] = df['fullname'].apply(lambda x: load_bythread(x))\n",
    "        df.apply(lambda x: x['load_bythread'].start(), axis=1)\n",
    "        df['data'] = df.apply(lambda x: x['load_bythread'].join(), axis=1)\n",
    "        \n",
    "    if traceon:\n",
    "        s, ms, t = mesure_delta(debut_t, datetime.datetime.now())\n",
    "        print('Time for loadind', len(wavefiles), ',audio files with mode mutithread=',by_thread,':', t)\n",
    "\n",
    "    return df\n"
   ]
  },
  {
   "cell_type": "markdown",
   "metadata": {},
   "source": [
    "### Test loading wave audio file list operation\n",
    "\n",
    "ulimit -n     \n",
    "1024  = nombre de fichiers ouvrable simmultaneement\n",
    "   \n",
    "solution :\n",
    "ulimit -S -n 40960    \n",
    "ulimit -n    \n",
    "40960   \n"
   ]
  },
  {
   "cell_type": "code",
   "execution_count": 10,
   "metadata": {},
   "outputs": [
    {
     "name": "stdout",
     "output_type": "stream",
     "text": [
      "2000\n"
     ]
    },
    {
     "data": {
      "text/html": [
       "<div>\n",
       "<style scoped>\n",
       "    .dataframe tbody tr th:only-of-type {\n",
       "        vertical-align: middle;\n",
       "    }\n",
       "\n",
       "    .dataframe tbody tr th {\n",
       "        vertical-align: top;\n",
       "    }\n",
       "\n",
       "    .dataframe thead th {\n",
       "        text-align: right;\n",
       "    }\n",
       "</style>\n",
       "<table border=\"1\" class=\"dataframe\">\n",
       "  <thead>\n",
       "    <tr style=\"text-align: right;\">\n",
       "      <th></th>\n",
       "      <th>0</th>\n",
       "    </tr>\n",
       "  </thead>\n",
       "  <tbody>\n",
       "    <tr>\n",
       "      <th>0</th>\n",
       "      <td>/mnt/d/ecomdata/DataForGood_wazo/input/ff1010b...</td>\n",
       "    </tr>\n",
       "    <tr>\n",
       "      <th>1</th>\n",
       "      <td>/mnt/d/ecomdata/DataForGood_wazo/input/ff1010b...</td>\n",
       "    </tr>\n",
       "    <tr>\n",
       "      <th>2</th>\n",
       "      <td>/mnt/d/ecomdata/DataForGood_wazo/input/ff1010b...</td>\n",
       "    </tr>\n",
       "    <tr>\n",
       "      <th>3</th>\n",
       "      <td>/mnt/d/ecomdata/DataForGood_wazo/input/ff1010b...</td>\n",
       "    </tr>\n",
       "    <tr>\n",
       "      <th>4</th>\n",
       "      <td>/mnt/d/ecomdata/DataForGood_wazo/input/ff1010b...</td>\n",
       "    </tr>\n",
       "  </tbody>\n",
       "</table>\n",
       "</div>"
      ],
      "text/plain": [
       "                                                   0\n",
       "0  /mnt/d/ecomdata/DataForGood_wazo/input/ff1010b...\n",
       "1  /mnt/d/ecomdata/DataForGood_wazo/input/ff1010b...\n",
       "2  /mnt/d/ecomdata/DataForGood_wazo/input/ff1010b...\n",
       "3  /mnt/d/ecomdata/DataForGood_wazo/input/ff1010b...\n",
       "4  /mnt/d/ecomdata/DataForGood_wazo/input/ff1010b..."
      ]
     },
     "metadata": {},
     "output_type": "display_data"
    },
    {
     "name": "stdout",
     "output_type": "stream",
     "text": [
      "Time for loadind 7690 ,audio files with mode mutithread= False : 55s 437ms\n",
      "2000\n"
     ]
    },
    {
     "data": {
      "text/html": [
       "<div>\n",
       "<style scoped>\n",
       "    .dataframe tbody tr th:only-of-type {\n",
       "        vertical-align: middle;\n",
       "    }\n",
       "\n",
       "    .dataframe tbody tr th {\n",
       "        vertical-align: top;\n",
       "    }\n",
       "\n",
       "    .dataframe thead th {\n",
       "        text-align: right;\n",
       "    }\n",
       "</style>\n",
       "<table border=\"1\" class=\"dataframe\">\n",
       "  <thead>\n",
       "    <tr style=\"text-align: right;\">\n",
       "      <th></th>\n",
       "      <th>0</th>\n",
       "    </tr>\n",
       "  </thead>\n",
       "  <tbody>\n",
       "    <tr>\n",
       "      <th>0</th>\n",
       "      <td>/mnt/d/ecomdata/DataForGood_wazo/input/ff1010b...</td>\n",
       "    </tr>\n",
       "    <tr>\n",
       "      <th>1</th>\n",
       "      <td>/mnt/d/ecomdata/DataForGood_wazo/input/ff1010b...</td>\n",
       "    </tr>\n",
       "    <tr>\n",
       "      <th>2</th>\n",
       "      <td>/mnt/d/ecomdata/DataForGood_wazo/input/ff1010b...</td>\n",
       "    </tr>\n",
       "    <tr>\n",
       "      <th>3</th>\n",
       "      <td>/mnt/d/ecomdata/DataForGood_wazo/input/ff1010b...</td>\n",
       "    </tr>\n",
       "    <tr>\n",
       "      <th>4</th>\n",
       "      <td>/mnt/d/ecomdata/DataForGood_wazo/input/ff1010b...</td>\n",
       "    </tr>\n",
       "  </tbody>\n",
       "</table>\n",
       "</div>"
      ],
      "text/plain": [
       "                                                   0\n",
       "0  /mnt/d/ecomdata/DataForGood_wazo/input/ff1010b...\n",
       "1  /mnt/d/ecomdata/DataForGood_wazo/input/ff1010b...\n",
       "2  /mnt/d/ecomdata/DataForGood_wazo/input/ff1010b...\n",
       "3  /mnt/d/ecomdata/DataForGood_wazo/input/ff1010b...\n",
       "4  /mnt/d/ecomdata/DataForGood_wazo/input/ff1010b..."
      ]
     },
     "metadata": {},
     "output_type": "display_data"
    },
    {
     "name": "stdout",
     "output_type": "stream",
     "text": [
      "Time for loadind 7690 ,audio files with mode mutithread= True : 15s 28ms\n"
     ]
    }
   ],
   "source": [
    "def test_load_audiofile_list(pathfiles=None):\n",
    "    \"\"\" test loading wav audio file list \"\"\"\n",
    "    if pathfiles is None:\n",
    "        #pathfiles = '/mnt/d/ecomdata/DataForGood_wazo/audio-annotator/split_data-20191021T201218Z-001/split_data'\n",
    "        pathfiles = '/mnt/d/ecomdata/DataForGood_wazo/input/ff1010bird_wav/wav'\n",
    "    df = load_audiofile_list(pathfiles, by_thread=False, traceon=True)\n",
    "    df = load_audiofile_list(pathfiles, by_thread=True, traceon=True)\n",
    "\n",
    "test_load_audiofile_list()"
   ]
  },
  {
   "cell_type": "markdown",
   "metadata": {},
   "source": [
    "### class for adding audio operation with file list"
   ]
  },
  {
   "cell_type": "code",
   "execution_count": 12,
   "metadata": {},
   "outputs": [],
   "source": [
    "class addwav_bythread(Thread):\n",
    "    \"\"\"Thread to load audio file \"\"\"\n",
    "    data = None\n",
    "\n",
    "    def __init__(self, data1, data2, p1=1, p2=1):\n",
    "        Thread.__init__(self)\n",
    "        self.data1 = data1\n",
    "        self.data2 = data2\n",
    "        self.p1 = p1\n",
    "        self.p2 = p2\n",
    "        \n",
    "    def run(self):\n",
    "        \"\"\"Code du thread.\"\"\"\n",
    "        self.data = add_dataWav1todataWav2(self.data1, self.data2, self.p1, self.p2) \n",
    "\n",
    "    def join(self):\n",
    "        Thread.join(self)\n",
    "        return self.data"
   ]
  },
  {
   "cell_type": "code",
   "execution_count": 13,
   "metadata": {},
   "outputs": [
    {
     "name": "stdout",
     "output_type": "stream",
     "text": [
      "2000\n"
     ]
    },
    {
     "data": {
      "text/html": [
       "<div>\n",
       "<style scoped>\n",
       "    .dataframe tbody tr th:only-of-type {\n",
       "        vertical-align: middle;\n",
       "    }\n",
       "\n",
       "    .dataframe tbody tr th {\n",
       "        vertical-align: top;\n",
       "    }\n",
       "\n",
       "    .dataframe thead th {\n",
       "        text-align: right;\n",
       "    }\n",
       "</style>\n",
       "<table border=\"1\" class=\"dataframe\">\n",
       "  <thead>\n",
       "    <tr style=\"text-align: right;\">\n",
       "      <th></th>\n",
       "      <th>0</th>\n",
       "    </tr>\n",
       "  </thead>\n",
       "  <tbody>\n",
       "    <tr>\n",
       "      <th>0</th>\n",
       "      <td>/mnt/d/ecomdata/DataForGood_wazo/input/ff1010b...</td>\n",
       "    </tr>\n",
       "    <tr>\n",
       "      <th>1</th>\n",
       "      <td>/mnt/d/ecomdata/DataForGood_wazo/input/ff1010b...</td>\n",
       "    </tr>\n",
       "    <tr>\n",
       "      <th>2</th>\n",
       "      <td>/mnt/d/ecomdata/DataForGood_wazo/input/ff1010b...</td>\n",
       "    </tr>\n",
       "    <tr>\n",
       "      <th>3</th>\n",
       "      <td>/mnt/d/ecomdata/DataForGood_wazo/input/ff1010b...</td>\n",
       "    </tr>\n",
       "    <tr>\n",
       "      <th>4</th>\n",
       "      <td>/mnt/d/ecomdata/DataForGood_wazo/input/ff1010b...</td>\n",
       "    </tr>\n",
       "  </tbody>\n",
       "</table>\n",
       "</div>"
      ],
      "text/plain": [
       "                                                   0\n",
       "0  /mnt/d/ecomdata/DataForGood_wazo/input/ff1010b...\n",
       "1  /mnt/d/ecomdata/DataForGood_wazo/input/ff1010b...\n",
       "2  /mnt/d/ecomdata/DataForGood_wazo/input/ff1010b...\n",
       "3  /mnt/d/ecomdata/DataForGood_wazo/input/ff1010b...\n",
       "4  /mnt/d/ecomdata/DataForGood_wazo/input/ff1010b..."
      ]
     },
     "metadata": {},
     "output_type": "display_data"
    },
    {
     "name": "stdout",
     "output_type": "stream",
     "text": [
      "Time for loadind 7690 ,audio files with mode mutithread= True : 13s 864ms\n",
      "test adding on  100  files\n",
      "Time for Add. operation on / 100 wav files : 39s 122ms\n",
      "test adding on  300  files\n",
      "Time for Add. operation on / 300 wav files : 114s 693ms\n",
      "test adding on  500  files\n",
      "Time for Add. operation on / 500 wav files : 191s 85ms\n",
      "test adding on  2000  files\n",
      "Time for Add. operation on / 2000 wav files : 748s 444ms\n"
     ]
    }
   ],
   "source": [
    "\n",
    "def test_dataWavAdding():\n",
    "    \"\"\" test adding operation on file list \"\"\"        \n",
    "    pathfiles = '/mnt/d/ecomdata/DataForGood_wazo/input/ff1010bird_wav/wav'\n",
    "    df1 = load_audiofile_list(pathfiles, by_thread=True, traceon=True)\n",
    "    \n",
    "    \"\"\"\n",
    "    Time for loadind 7690 ,audio files with mode mutithread= True : 149s 834ms\n",
    "    \"\"\"\n",
    "    \n",
    "    #for n in [100, 300, 500, 1000, len(df1)]:\n",
    "    for n in [100, 300, 500, 2000]:\n",
    "        print('test adding on ', n, ' files')\n",
    "        df2 = df1[:n].copy()    \n",
    "        debut_t = datetime.datetime.now()        \n",
    "        df2['data2'] = df2['data']\n",
    "        df2['addwav_bythread'] = df2.apply(lambda x: addwav_bythread(x['data'], x['data2']), axis=1)\n",
    "        \n",
    "        df2.apply(lambda x: x['addwav_bythread'].start(), axis=1)\n",
    "        df2['data3'] = df2.apply(lambda x: x['addwav_bythread'].join(), axis=1)\n",
    "        \n",
    "        s, ms, t = mesure_delta(debut_t, datetime.datetime.now())\n",
    "        print('Time for Add. operation on /', len(df2), 'wav files :', t)\n",
    "        \n",
    "test_dataWavAdding()"
   ]
  },
  {
   "cell_type": "code",
   "execution_count": null,
   "metadata": {},
   "outputs": [],
   "source": []
  }
 ],
 "metadata": {
  "kernelspec": {
   "display_name": "Python 3",
   "language": "python",
   "name": "python3"
  },
  "language_info": {
   "codemirror_mode": {
    "name": "ipython",
    "version": 3
   },
   "file_extension": ".py",
   "mimetype": "text/x-python",
   "name": "python",
   "nbconvert_exporter": "python",
   "pygments_lexer": "ipython3",
   "version": "3.7.4"
  }
 },
 "nbformat": 4,
 "nbformat_minor": 2
}
